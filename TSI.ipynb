{
 "cells": [
  {
   "cell_type": "markdown",
   "id": "1bb98a2e-4a07-406a-97df-b61f7de0137e",
   "metadata": {
    "tags": []
   },
   "source": [
    "```{note} TSI\n",
    "\n",
    "True Strength Index (TSI)\n",
    "\n",
    "```"
   ]
  },
  {
   "cell_type": "code",
   "execution_count": 3,
   "id": "c198a102-b62d-4429-8e4e-95e3869ce759",
   "metadata": {
    "tags": []
   },
   "outputs": [],
   "source": [
    "import os\n",
    "import numpy as np\n",
    "import pandas as pd\n",
    "import matplotlib.pyplot as plt\n",
    "from itertools import cycle\n",
    "\n",
    "import plotly.express as px\n",
    "import plotly.io as pio\n",
    "pio.templates.default = \"plotly_white\"\n",
    "\n",
    "from pathlib import Path\n",
    "from tqdm.auto import tqdm\n",
    "\n",
    "\n",
    "from sklearn.metrics import mean_absolute_error\n",
    "from IPython.display import display, HTML\n",
    "# %load_ext autoreload\n",
    "# %autoreload 2\n",
    "\n",
    "\n",
    "np.random.seed()\n",
    "tqdm.pandas()"
   ]
  },
  {
   "cell_type": "code",
   "execution_count": 4,
   "id": "54b1e4f6-2169-43e1-a643-9dcbc71deabb",
   "metadata": {
    "tags": []
   },
   "outputs": [
    {
     "name": "stdout",
     "output_type": "stream",
     "text": [
      "INFO: Pandarallel will run on 4 workers.\n",
      "INFO: Pandarallel will use standard multiprocessing data transfer (pipe) to transfer data between the main process and workers.\n",
      "\n",
      "WARNING: You are on Windows. If you detect any issue with pandarallel, be sure you checked out the Troubleshooting page:\n",
      "https://nalepae.github.io/pandarallel/troubleshooting/\n"
     ]
    }
   ],
   "source": [
    "from pandarallel import pandarallel\n",
    "pandarallel.initialize()"
   ]
  },
  {
   "cell_type": "code",
   "execution_count": 5,
   "id": "5f2fdf83-e3d0-4922-81c7-e34b1f0d2d53",
   "metadata": {
    "tags": []
   },
   "outputs": [],
   "source": [
    "import warnings\n",
    "warnings.filterwarnings('ignore')"
   ]
  },
  {
   "cell_type": "code",
   "execution_count": 6,
   "id": "97ef1f62-0aa7-4fc0-973a-5d8a43c2aba3",
   "metadata": {
    "tags": []
   },
   "outputs": [],
   "source": [
    "\n",
    "def format_plot(fig, legends = None, xlabel=\"Time\", ylabel=\"Value\", figsize=(400,900), \n",
    "                font_size=15, title_font_size=20, text=None):\n",
    "    if legends:\n",
    "        names = cycle(legends)\n",
    "        fig.for_each_trace(lambda t:  t.update(name = next(names)))\n",
    "    fig.update_layout(\n",
    "            autosize=False,\n",
    "            width=figsize[1],\n",
    "            height=figsize[0],\n",
    "            title={\n",
    "            'x':0.5,\n",
    "            'xanchor': 'center',\n",
    "            'yanchor': 'top'},\n",
    "            titlefont={\n",
    "                \"size\": 20\n",
    "            },\n",
    "            legend_title = None,\n",
    "            legend=dict(\n",
    "                font=dict(size=font_size),\n",
    "                orientation=\"h\",\n",
    "                yanchor=\"bottom\",\n",
    "                y=0.98,\n",
    "                xanchor=\"right\",\n",
    "                x=1,\n",
    "            ),\n",
    "            yaxis=dict(\n",
    "                title_text=ylabel,\n",
    "                titlefont=dict(size=font_size),\n",
    "                tickfont=dict(size=font_size),\n",
    "            ),\n",
    "            xaxis=dict(\n",
    "                title_text=xlabel,\n",
    "                titlefont=dict(size=font_size),\n",
    "                tickfont=dict(size=font_size),\n",
    "            ),\n",
    "            annotations = [dict(\n",
    "                x=-0.1,\n",
    "                y=-0.3,\n",
    "                xref='paper',\n",
    "                yref='paper',\n",
    "                text = text,\n",
    "                showarrow = False,\n",
    "                font= {\"size\":15, \"family\":\"Arial Black\"}\n",
    "\n",
    "            )]\n",
    "        )\n",
    "    return fig\n",
    "\n"
   ]
  },
  {
   "cell_type": "code",
   "execution_count": null,
   "id": "6635a1ea-bde0-4129-81de-99fc0b1ea0d5",
   "metadata": {},
   "outputs": [],
   "source": []
  },
  {
   "cell_type": "code",
   "execution_count": null,
   "id": "303d7a9c-6a45-465a-b84c-68f3a74396b7",
   "metadata": {},
   "outputs": [],
   "source": []
  },
  {
   "cell_type": "code",
   "execution_count": null,
   "id": "f20d1f6a-cffe-40b9-915c-32d8b7f55743",
   "metadata": {},
   "outputs": [],
   "source": []
  },
  {
   "cell_type": "code",
   "execution_count": null,
   "id": "700a845a-742a-455a-9759-af76bf3b6f40",
   "metadata": {},
   "outputs": [],
   "source": []
  },
  {
   "cell_type": "code",
   "execution_count": null,
   "id": "0a0a1058-f5af-4a73-9f55-31881d2973bd",
   "metadata": {},
   "outputs": [],
   "source": []
  },
  {
   "cell_type": "code",
   "execution_count": null,
   "id": "b46881db-0c9c-4355-bae6-77f32f3a03fc",
   "metadata": {},
   "outputs": [],
   "source": []
  },
  {
   "cell_type": "code",
   "execution_count": null,
   "id": "c0a99314-0a96-4433-9789-6fac5cf3503e",
   "metadata": {},
   "outputs": [],
   "source": []
  },
  {
   "cell_type": "code",
   "execution_count": null,
   "id": "5c688e6a-56ed-4716-8107-73e86b96debb",
   "metadata": {},
   "outputs": [],
   "source": []
  },
  {
   "cell_type": "markdown",
   "id": "3a0fb85d-a8c1-48ce-bfcb-d3325cf50e4c",
   "metadata": {},
   "source": [
    "```{important} Visualization\n",
    "\n",
    "# Visualization\n",
    "\n",
    "```"
   ]
  },
  {
   "cell_type": "code",
   "execution_count": null,
   "id": "ff369107-36fc-49d3-8e91-b3eb1ece332c",
   "metadata": {},
   "outputs": [],
   "source": [
    "n = 1\n",
    "text = f\"Figure 1.{n} - Basic line Plot -- Daily Values\"\n",
    "\n",
    "fig = px.line(ts_df, y=\"energy_consumptionYW\", title=\"Energy Consumption for MAC000193\")\n",
    "fig = format_plot(fig, ylabel=\"Energy Consumption\", text=text)\n",
    "# fig.write_image(\"imgs/chapter_3/line_plot.png\")\n",
    "fig.show()\n",
    "\n",
    "\n",
    "n += 1"
   ]
  },
  {
   "cell_type": "code",
   "execution_count": null,
   "id": "443d6616-bc06-49f2-863e-cf5c4fc3a67f",
   "metadata": {},
   "outputs": [],
   "source": []
  },
  {
   "cell_type": "code",
   "execution_count": null,
   "id": "4a8f0ced-2376-467e-a670-bc14c54a6f51",
   "metadata": {},
   "outputs": [],
   "source": []
  },
  {
   "cell_type": "code",
   "execution_count": null,
   "id": "41945249-3c5e-4686-a3e1-916b3711a4a1",
   "metadata": {},
   "outputs": [],
   "source": []
  },
  {
   "cell_type": "code",
   "execution_count": null,
   "id": "3460aa61-11ed-4974-8063-c38ae6d84c9a",
   "metadata": {},
   "outputs": [],
   "source": []
  },
  {
   "cell_type": "code",
   "execution_count": null,
   "id": "4664441f-0c2d-4669-90ca-b90b37a76b7c",
   "metadata": {},
   "outputs": [],
   "source": []
  },
  {
   "cell_type": "code",
   "execution_count": null,
   "id": "97b2c001-1e47-4df3-b581-0c4a4d7b8d4a",
   "metadata": {},
   "outputs": [],
   "source": []
  }
 ],
 "metadata": {
  "kernelspec": {
   "display_name": "Python 3 (ipykernel)",
   "language": "python",
   "name": "python3"
  },
  "language_info": {
   "codemirror_mode": {
    "name": "ipython",
    "version": 3
   },
   "file_extension": ".py",
   "mimetype": "text/x-python",
   "name": "python",
   "nbconvert_exporter": "python",
   "pygments_lexer": "ipython3",
   "version": "3.10.0"
  }
 },
 "nbformat": 4,
 "nbformat_minor": 5
}
