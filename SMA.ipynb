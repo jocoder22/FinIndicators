{
 "cells": [
  {
   "cell_type": "markdown",
   "id": "e05d287d-9ef4-4bcb-9321-281f661aba81",
   "metadata": {},
   "source": [
    "```{note} Note\n",
    "Simple moving Average (SMA) using Talib library\n",
    "\n",
    "```"
   ]
  },
  {
   "cell_type": "code",
   "execution_count": 1,
   "id": "c38f8b2b-c847-4659-9162-f46c7662ca53",
   "metadata": {
    "tags": []
   },
   "outputs": [],
   "source": [
    "import os\n",
    "import numpy as np\n",
    "import pandas as pd\n",
    "import matplotlib.pyplot as plt\n",
    "from itertools import cycle\n",
    "\n",
    "import plotly.express as px\n",
    "import plotly.io as pio\n",
    "pio.templates.default = \"plotly_white\"\n",
    "\n",
    "from pathlib import Path\n",
    "from tqdm.auto import tqdm\n",
    "\n",
    "\n",
    "from sklearn.metrics import mean_absolute_error\n",
    "from IPython.display import display, HTML\n",
    "# %load_ext autoreload\n",
    "# %autoreload 2\n",
    "\n",
    "\n",
    "np.random.seed()\n",
    "tqdm.pandas()"
   ]
  },
  {
   "cell_type": "code",
   "execution_count": 2,
   "id": "c27d355d-9282-4e39-9d79-9fc72a21e9e6",
   "metadata": {
    "tags": []
   },
   "outputs": [
    {
     "name": "stdout",
     "output_type": "stream",
     "text": [
      "INFO: Pandarallel will run on 4 workers.\n",
      "INFO: Pandarallel will use standard multiprocessing data transfer (pipe) to transfer data between the main process and workers.\n",
      "\n",
      "WARNING: You are on Windows. If you detect any issue with pandarallel, be sure you checked out the Troubleshooting page:\n",
      "https://nalepae.github.io/pandarallel/troubleshooting/\n"
     ]
    }
   ],
   "source": [
    "from pandarallel import pandarallel\n",
    "pandarallel.initialize()"
   ]
  },
  {
   "cell_type": "code",
   "execution_count": 3,
   "id": "de8fa64c-b1f1-40d2-8d3f-92de93da6fd4",
   "metadata": {
    "tags": []
   },
   "outputs": [],
   "source": [
    "import warnings\n",
    "warnings.filterwarnings('ignore')"
   ]
  },
  {
   "cell_type": "code",
   "execution_count": 8,
   "id": "722caf1b-659f-4e6a-990c-58a90779e179",
   "metadata": {
    "tags": []
   },
   "outputs": [],
   "source": [
    "import yfinance as yf\n",
    "from datetime import date, datetime, timedelta\n",
    "\n",
    "from ta.utils import dropna\n",
    "from ta.momentum import RSIIndicator\n",
    "\n",
    "import talib as tb"
   ]
  },
  {
   "cell_type": "code",
   "execution_count": 5,
   "id": "258cd8f7-26b7-49b8-b067-980795f06796",
   "metadata": {
    "tags": []
   },
   "outputs": [],
   "source": [
    "\n",
    "def format_plot(fig, legends = None, xlabel=\"Time\", ylabel=\"Value\", figsize=(400,900), \n",
    "                font_size=15, title_font_size=20, text=None):\n",
    "    if legends:\n",
    "        names = cycle(legends)\n",
    "        fig.for_each_trace(lambda t:  t.update(name = next(names)))\n",
    "    fig.update_layout(\n",
    "            autosize=False,\n",
    "            width=figsize[1],\n",
    "            height=figsize[0],\n",
    "            title={\n",
    "            'x':0.5,\n",
    "            'xanchor': 'center',\n",
    "            'yanchor': 'top'},\n",
    "            titlefont={\n",
    "                \"size\": 20\n",
    "            },\n",
    "            legend_title = None,\n",
    "            legend=dict(\n",
    "                font=dict(size=font_size),\n",
    "                orientation=\"h\",\n",
    "                yanchor=\"bottom\",\n",
    "                y=0.98,\n",
    "                xanchor=\"right\",\n",
    "                x=1,\n",
    "            ),\n",
    "            yaxis=dict(\n",
    "                title_text=ylabel,\n",
    "                titlefont=dict(size=font_size),\n",
    "                tickfont=dict(size=font_size),\n",
    "            ),\n",
    "            xaxis=dict(\n",
    "                title_text=xlabel,\n",
    "                titlefont=dict(size=font_size),\n",
    "                tickfont=dict(size=font_size),\n",
    "            ),\n",
    "            annotations = [dict(\n",
    "                x=-0.1,\n",
    "                y=-0.3,\n",
    "                xref='paper',\n",
    "                yref='paper',\n",
    "                text = text,\n",
    "                showarrow = False,\n",
    "                font= {\"size\":15, \"family\":\"Arial Black\"}\n",
    "\n",
    "            )]\n",
    "        )\n",
    "    return fig\n",
    "\n"
   ]
  },
  {
   "cell_type": "code",
   "execution_count": 6,
   "id": "d6a5984c-ebad-4451-9a20-56dd8dcd15cb",
   "metadata": {
    "tags": []
   },
   "outputs": [
    {
     "name": "stdout",
     "output_type": "stream",
     "text": [
      "[*********************100%%**********************]  1 of 1 completed\n"
     ]
    }
   ],
   "source": [
    "riskyAsset = \"AMZN\"\n",
    "startdate = date.today() - timedelta(days=365)\n",
    "\n",
    "df = yf.download(riskyAsset, start=startdate)"
   ]
  },
  {
   "cell_type": "code",
   "execution_count": 7,
   "id": "2de09e89-e29a-4b7f-b7d0-f9d2bf453f5f",
   "metadata": {
    "tags": []
   },
   "outputs": [
    {
     "data": {
      "text/html": [
       "<div>\n",
       "<style scoped>\n",
       "    .dataframe tbody tr th:only-of-type {\n",
       "        vertical-align: middle;\n",
       "    }\n",
       "\n",
       "    .dataframe tbody tr th {\n",
       "        vertical-align: top;\n",
       "    }\n",
       "\n",
       "    .dataframe thead th {\n",
       "        text-align: right;\n",
       "    }\n",
       "</style>\n",
       "<table border=\"1\" class=\"dataframe\">\n",
       "  <thead>\n",
       "    <tr style=\"text-align: right;\">\n",
       "      <th></th>\n",
       "      <th>Open</th>\n",
       "      <th>High</th>\n",
       "      <th>Low</th>\n",
       "      <th>Close</th>\n",
       "      <th>Adj Close</th>\n",
       "      <th>Volume</th>\n",
       "    </tr>\n",
       "    <tr>\n",
       "      <th>Date</th>\n",
       "      <th></th>\n",
       "      <th></th>\n",
       "      <th></th>\n",
       "      <th></th>\n",
       "      <th></th>\n",
       "      <th></th>\n",
       "    </tr>\n",
       "  </thead>\n",
       "  <tbody>\n",
       "    <tr>\n",
       "      <th>2022-10-11</th>\n",
       "      <td>112.709999</td>\n",
       "      <td>115.480003</td>\n",
       "      <td>110.389999</td>\n",
       "      <td>112.209999</td>\n",
       "      <td>112.209999</td>\n",
       "      <td>56432200</td>\n",
       "    </tr>\n",
       "    <tr>\n",
       "      <th>2022-10-12</th>\n",
       "      <td>112.489998</td>\n",
       "      <td>113.830002</td>\n",
       "      <td>111.400002</td>\n",
       "      <td>112.900002</td>\n",
       "      <td>112.900002</td>\n",
       "      <td>45728700</td>\n",
       "    </tr>\n",
       "    <tr>\n",
       "      <th>2022-10-13</th>\n",
       "      <td>107.879997</td>\n",
       "      <td>113.440002</td>\n",
       "      <td>105.349998</td>\n",
       "      <td>112.529999</td>\n",
       "      <td>112.529999</td>\n",
       "      <td>86868100</td>\n",
       "    </tr>\n",
       "    <tr>\n",
       "      <th>2022-10-14</th>\n",
       "      <td>114.099998</td>\n",
       "      <td>114.959999</td>\n",
       "      <td>106.599998</td>\n",
       "      <td>106.900002</td>\n",
       "      <td>106.900002</td>\n",
       "      <td>67737300</td>\n",
       "    </tr>\n",
       "    <tr>\n",
       "      <th>2022-10-17</th>\n",
       "      <td>110.110001</td>\n",
       "      <td>114.190002</td>\n",
       "      <td>110.089996</td>\n",
       "      <td>113.790001</td>\n",
       "      <td>113.790001</td>\n",
       "      <td>62782000</td>\n",
       "    </tr>\n",
       "  </tbody>\n",
       "</table>\n",
       "</div>"
      ],
      "text/plain": [
       "                  Open        High         Low       Close   Adj Close  \\\n",
       "Date                                                                     \n",
       "2022-10-11  112.709999  115.480003  110.389999  112.209999  112.209999   \n",
       "2022-10-12  112.489998  113.830002  111.400002  112.900002  112.900002   \n",
       "2022-10-13  107.879997  113.440002  105.349998  112.529999  112.529999   \n",
       "2022-10-14  114.099998  114.959999  106.599998  106.900002  106.900002   \n",
       "2022-10-17  110.110001  114.190002  110.089996  113.790001  113.790001   \n",
       "\n",
       "              Volume  \n",
       "Date                  \n",
       "2022-10-11  56432200  \n",
       "2022-10-12  45728700  \n",
       "2022-10-13  86868100  \n",
       "2022-10-14  67737300  \n",
       "2022-10-17  62782000  "
      ]
     },
     "execution_count": 7,
     "metadata": {},
     "output_type": "execute_result"
    }
   ],
   "source": [
    "df.head()"
   ]
  },
  {
   "cell_type": "code",
   "execution_count": null,
   "id": "e96dc6ac-6d56-4aed-94d3-f8cdb06b496d",
   "metadata": {},
   "outputs": [],
   "source": []
  }
 ],
 "metadata": {
  "kernelspec": {
   "display_name": "Python 3 (ipykernel)",
   "language": "python",
   "name": "python3"
  },
  "language_info": {
   "codemirror_mode": {
    "name": "ipython",
    "version": 3
   },
   "file_extension": ".py",
   "mimetype": "text/x-python",
   "name": "python",
   "nbconvert_exporter": "python",
   "pygments_lexer": "ipython3",
   "version": "3.10.0"
  }
 },
 "nbformat": 4,
 "nbformat_minor": 5
}
