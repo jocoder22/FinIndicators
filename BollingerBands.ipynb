{
 "cells": [
  {
   "cell_type": "markdown",
   "id": "e05d287d-9ef4-4bcb-9321-281f661aba81",
   "metadata": {},
   "source": [
    "```{note} Note\n",
    "\n",
    "Bollinger Bands (BB) using Talib library\n",
    "\n",
    "```"
   ]
  },
  {
   "cell_type": "code",
   "execution_count": null,
   "id": "c38f8b2b-c847-4659-9162-f46c7662ca53",
   "metadata": {
    "tags": []
   },
   "outputs": [],
   "source": [
    "import os\n",
    "import numpy as np\n",
    "import pandas as pd\n",
    "import matplotlib.pyplot as plt\n",
    "from itertools import cycle\n",
    "\n",
    "import plotly.express as px\n",
    "import plotly.io as pio\n",
    "pio.templates.default = \"plotly_white\"\n",
    "\n",
    "from pathlib import Path\n",
    "from tqdm.auto import tqdm\n",
    "\n",
    "\n",
    "from sklearn.metrics import mean_absolute_error\n",
    "from IPython.display import display, HTML\n",
    "# %load_ext autoreload\n",
    "# %autoreload 2\n",
    "\n",
    "\n",
    "np.random.seed()\n",
    "tqdm.pandas()"
   ]
  },
  {
   "cell_type": "code",
   "execution_count": null,
   "id": "c27d355d-9282-4e39-9d79-9fc72a21e9e6",
   "metadata": {
    "tags": []
   },
   "outputs": [],
   "source": [
    "from pandarallel import pandarallel\n",
    "pandarallel.initialize()"
   ]
  },
  {
   "cell_type": "code",
   "execution_count": null,
   "id": "de8fa64c-b1f1-40d2-8d3f-92de93da6fd4",
   "metadata": {
    "tags": []
   },
   "outputs": [],
   "source": [
    "import warnings\n",
    "warnings.filterwarnings('ignore')"
   ]
  },
  {
   "cell_type": "code",
   "execution_count": null,
   "id": "722caf1b-659f-4e6a-990c-58a90779e179",
   "metadata": {
    "tags": []
   },
   "outputs": [],
   "source": [
    "import yfinance as yf\n",
    "from datetime import date, datetime, timedelta\n",
    "\n",
    "from ta.utils import dropna\n",
    "from ta.momentum import RSIIndicator\n",
    "\n",
    "import talib as tb"
   ]
  },
  {
   "cell_type": "code",
   "execution_count": null,
   "id": "258cd8f7-26b7-49b8-b067-980795f06796",
   "metadata": {
    "tags": []
   },
   "outputs": [],
   "source": [
    "\n",
    "def format_plot(fig, legends = None, xlabel=\"Time\", ylabel=\"Value\", figsize=(400,900), \n",
    "                font_size=15, title_font_size=20, text=None):\n",
    "    if legends:\n",
    "        names = cycle(legends)\n",
    "        fig.for_each_trace(lambda t:  t.update(name = next(names)))\n",
    "    fig.update_layout(\n",
    "            autosize=False,\n",
    "            width=figsize[1],\n",
    "            height=figsize[0],\n",
    "            title={\n",
    "            'x':0.5,\n",
    "            'xanchor': 'center',\n",
    "            'yanchor': 'top'},\n",
    "            titlefont={\n",
    "                \"size\": 20\n",
    "            },\n",
    "            legend_title = None,\n",
    "            legend=dict(\n",
    "                font=dict(size=font_size),\n",
    "                orientation=\"h\",\n",
    "                yanchor=\"bottom\",\n",
    "                y=0.98,\n",
    "                xanchor=\"right\",\n",
    "                x=1,\n",
    "            ),\n",
    "            yaxis=dict(\n",
    "                title_text=ylabel,\n",
    "                titlefont=dict(size=font_size),\n",
    "                tickfont=dict(size=font_size),\n",
    "            ),\n",
    "            xaxis=dict(\n",
    "                title_text=xlabel,\n",
    "                titlefont=dict(size=font_size),\n",
    "                tickfont=dict(size=font_size),\n",
    "            ),\n",
    "            annotations = [dict(\n",
    "                x=-0.1,\n",
    "                y=-0.3,\n",
    "                xref='paper',\n",
    "                yref='paper',\n",
    "                text = text,\n",
    "                showarrow = False,\n",
    "                font= {\"size\":15, \"family\":\"Arial Black\"}\n",
    "\n",
    "            )]\n",
    "        )\n",
    "    return fig\n",
    "\n"
   ]
  },
  {
   "cell_type": "code",
   "execution_count": null,
   "id": "d6a5984c-ebad-4451-9a20-56dd8dcd15cb",
   "metadata": {
    "tags": []
   },
   "outputs": [],
   "source": [
    "riskyAsset = \"AMZN\"\n",
    "startdate = date.today() - timedelta(days=180)\n",
    "\n",
    "df = yf.download(riskyAsset, start=startdate)"
   ]
  },
  {
   "cell_type": "code",
   "execution_count": null,
   "id": "2de09e89-e29a-4b7f-b7d0-f9d2bf453f5f",
   "metadata": {
    "tags": []
   },
   "outputs": [],
   "source": [
    "df.head()"
   ]
  },
  {
   "cell_type": "code",
   "execution_count": null,
   "id": "e96dc6ac-6d56-4aed-94d3-f8cdb06b496d",
   "metadata": {
    "tags": []
   },
   "outputs": [],
   "source": [
    "# Calculate and plot the Bollinger bands:\n",
    "df[\"bb_up\"], df[\"bb_mid\"], df[\"bb_low\"] = tb.BBANDS(df[\"Close\"])"
   ]
  },
  {
   "cell_type": "markdown",
   "id": "0a3b62a4-9767-40a7-8ac6-11b1d55d6378",
   "metadata": {},
   "source": [
    "```{important} Visualization\n",
    "\n",
    "# Visualization\n",
    "\n",
    "```"
   ]
  },
  {
   "cell_type": "code",
   "execution_count": null,
   "id": "907c0ca1-d890-4d39-918e-9626ee52dc77",
   "metadata": {
    "tags": []
   },
   "outputs": [],
   "source": [
    "import plotly.graph_objects as go"
   ]
  },
  {
   "cell_type": "code",
   "execution_count": null,
   "id": "d7db4585-1203-46cf-b1bb-c6474828e71c",
   "metadata": {
    "tags": []
   },
   "outputs": [],
   "source": [
    "import plotly.graph_objects as go\n",
    "\n",
    "\n",
    "n = 1\n",
    "text = f\"Figure 1.{n} - Bollinger Bands plot \"\n",
    "\n",
    "\n",
    "fig = go.Figure()\n",
    "\n",
    "fig.add_trace(go.Scatter(x=df.index, y=df.bb_up,\n",
    "    fill=None, name=\"Up\",\n",
    "    mode='lines',\n",
    "    line_color='indigo',\n",
    "    ))\n",
    "fig.add_trace(go.Scatter(\n",
    "    x=df.index, name='Low',\n",
    "    y=df.bb_low, fillcolor = 'white',\n",
    "    fill='tonexty', # fill area between trace0 and trace1\n",
    "    mode='lines', line_color='indigo'))\n",
    "\n",
    "\n",
    "fig.add_trace(go.Scatter(x=df.index, y=df.bb_mid,\n",
    "    fill=None, name='Mid',\n",
    "    mode='lines',\n",
    "    line_color='indigo',\n",
    "    ))\n",
    "\n",
    "fig.add_trace(go.Scatter(x=df.index, y=df.Close,\n",
    "    fill=None, name=\"Close\",\n",
    "    mode='lines',\n",
    "    line_color='indigo',\n",
    "    ))\n",
    "\n",
    "fig = format_plot(fig, ylabel=\"SMA\", text=text)\n",
    "fig.update_layout(legend=dict(\n",
    "    orientation=\"v\",\n",
    "    entrywidth=70,\n",
    "    yanchor=\"top\",\n",
    "    y=1.02,\n",
    "    xanchor=\"right\",\n",
    "    x=1\n",
    "))\n",
    "\n",
    "\n",
    "\n",
    "# fig = px.line(df, y=[\"Close\",\"bb_mid\"], title=\"20 day Simple Moving Average Plot\")\n",
    "fig.update_layout(legend=dict(\n",
    "    yanchor=\"top\",\n",
    "    y=0.99,\n",
    "    xanchor=\"left\",\n",
    "    x=0.01\n",
    "))\n",
    "\n",
    "# fig.add_traces(go.Scatter(x=df.index, y = df.ma1,\n",
    "#                           line = dict(color='rgba(0,0,0,0)')))\n",
    "\n",
    "# fig.add_traces(go.Scatter(x=df.index, y = df.ma2,\n",
    "#                           line = dict(color='rgba(0,0,0,0)'),\n",
    "#                           fill='tonexty', \n",
    "#                           fillcolor = fillcol(df['label'].iloc[0])))\n",
    "\n",
    "# fig.write_image(\"imgs/chapter_3/line_plot.png\")\n",
    "fig.show()\n",
    "\n",
    "\n",
    "n += 1"
   ]
  },
  {
   "cell_type": "code",
   "execution_count": null,
   "id": "3d64e004-e973-4707-9987-70dafb12ebfe",
   "metadata": {
    "tags": []
   },
   "outputs": [],
   "source": [
    "fig = go.Figure()\n",
    "\n",
    "# for df in dfs:\n",
    "fig.add_traces(go.Scatter(x=df.index, y = df.bb_up, name=\"Up\",\n",
    "                          line = dict(color='rgba(0,0,0,0)')))\n",
    "\n",
    "fig.add_traces(go.Scatter(x=df.index, y = df.bb_low, name=\"Low\",\n",
    "                          line = dict(color='rgba(250,250,250,0)'),\n",
    "                          fill='tonexty', \n",
    "                          fillcolor = 'rgba(0,250,0,0.4)'))\n",
    "\n",
    "# include averages\n",
    "colr = [\"blue\", \"red\"]\n",
    "names = [\"Close\", \"Mid\"]\n",
    "for indx, x in enumerate([\"Close\", \"bb_mid\"]):\n",
    "    fig.add_traces(go.Scatter(x=df.index, y = df[x], name = names[indx],\n",
    "                              line = dict(color = colr[indx], width=1)))\n",
    "\n",
    "# fig.update_layout(showlegend=False)\n",
    "fig.show()"
   ]
  },
  {
   "cell_type": "code",
   "execution_count": null,
   "id": "405a4b6c-368a-4894-99eb-af3c8989d99c",
   "metadata": {},
   "outputs": [],
   "source": [
    "\n",
    "    # The 'fillcolor' property is a color and may be specified as:\n",
    "    #   - A hex string (e.g. '#ff0000')\n",
    "    #   - An rgb/rgba string (e.g. 'rgb(255,0,0)')\n",
    "    #   - An hsl/hsla string (e.g. 'hsl(0,100%,50%)')\n",
    "    #   - An hsv/hsva string (e.g. 'hsv(0,100%,100%)')\n",
    "    #   - A named CSS color:\n",
    "    #         aliceblue, antiquewhite, aqua, aquamarine, azure,\n",
    "    #         beige, bisque, black, blanchedalmond, blue,\n",
    "    #         blueviolet, brown, burlywood, cadetblue,\n",
    "    #         chartreuse, chocolate, coral, cornflowerblue,\n",
    "    #         cornsilk, crimson, cyan, darkblue, darkcyan,\n",
    "    #         darkgoldenrod, darkgray, darkgrey, darkgreen,\n",
    "    #         darkkhaki, darkmagenta, darkolivegreen, darkorange,\n",
    "    #         darkorchid, darkred, darksalmon, darkseagreen,\n",
    "    #         darkslateblue, darkslategray, darkslategrey,\n",
    "    #         darkturquoise, darkviolet, deeppink, deepskyblue,\n",
    "    #         dimgray, dimgrey, dodgerblue, firebrick,\n",
    "    #         floralwhite, forestgreen, fuchsia, gainsboro,\n",
    "    #         ghostwhite, gold, goldenrod, gray, grey, green,\n",
    "    #         greenyellow, honeydew, hotpink, indianred, indigo,\n",
    "    #         ivory, khaki, lavender, lavenderblush, lawngreen,\n",
    "    #         lemonchiffon, lightblue, lightcoral, lightcyan,\n",
    "    #         lightgoldenrodyellow, lightgray, lightgrey,\n",
    "    #         lightgreen, lightpink, lightsalmon, lightseagreen,\n",
    "    #         lightskyblue, lightslategray, lightslategrey,\n",
    "    #         lightsteelblue, lightyellow, lime, limegreen,\n",
    "    #         linen, magenta, maroon, mediumaquamarine,\n",
    "    #         mediumblue, mediumorchid, mediumpurple,\n",
    "    #         mediumseagreen, mediumslateblue, mediumspringgreen,\n",
    "    #         mediumturquoise, mediumvioletred, midnightblue,\n",
    "    #         mintcream, mistyrose, moccasin, navajowhite, navy,\n",
    "    #         oldlace, olive, olivedrab, orange, orangered,\n",
    "    #         orchid, palegoldenrod, palegreen, paleturquoise,\n",
    "    #         palevioletred, papayawhip, peachpuff, peru, pink,\n",
    "    #         plum, powderblue, purple, red, rosybrown,\n",
    "    #         royalblue, rebeccapurple, saddlebrown, salmon,\n",
    "    #         sandybrown, seagreen, seashell, sienna, silver,\n",
    "    #         skyblue, slateblue, slategray, slategrey, snow,\n",
    "    #         springgreen, steelblue, tan, teal, thistle, tomato,\n",
    "    #         turquoise, violet, wheat, white, whitesmoke,\n",
    "    #         yellow, yellowgreen"
   ]
  },
  {
   "cell_type": "code",
   "execution_count": null,
   "id": "b8f82749-cdb2-4d07-9770-bdedf72d2fd5",
   "metadata": {},
   "outputs": [],
   "source": [
    "# https://stackoverflow.com/questions/64741015/plotly-how-to-color-the-fill-between-two-lines-based-on-a-condition"
   ]
  },
  {
   "cell_type": "code",
   "execution_count": null,
   "id": "24151769-5d6b-4cd7-a47b-4352ef0d79b2",
   "metadata": {},
   "outputs": [],
   "source": [
    "fig, ax = plt.subplots()\n",
    "\n",
    "(\n",
    "    df.loc[:, [\"Close\", \"bb_up\", \"bb_mid\", \"bb_low\"]]\n",
    "    .plot(ax=ax, title=\"Bollinger Bands\")\n",
    ")\n",
    "\n",
    "ax.fill_between(df.index, df[\"bb_low\"], df[\"bb_up\"], \n",
    "                color=\"gray\", \n",
    "                alpha=.4)\n",
    "\n",
    "sns.despine()\n",
    "plt.tight_layout()\n",
    "plt.show()"
   ]
  }
 ],
 "metadata": {
  "kernelspec": {
   "display_name": "Python 3 (ipykernel)",
   "language": "python",
   "name": "python3"
  },
  "language_info": {
   "codemirror_mode": {
    "name": "ipython",
    "version": 3
   },
   "file_extension": ".py",
   "mimetype": "text/x-python",
   "name": "python",
   "nbconvert_exporter": "python",
   "pygments_lexer": "ipython3",
   "version": "3.10.0"
  }
 },
 "nbformat": 4,
 "nbformat_minor": 5
}
